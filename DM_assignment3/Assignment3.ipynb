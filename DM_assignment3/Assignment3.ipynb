{
 "cells": [
  {
   "cell_type": "code",
   "execution_count": 1,
   "id": "34a0f81a",
   "metadata": {},
   "outputs": [],
   "source": [
    "from __future__ import division\n",
    "\n",
    "import scipy as sp\n",
    "import scipy.sparse as sprs\n",
    "import scipy.spatial\n",
    "import scipy.sparse.linalg\n"
   ]
  },
  {
   "cell_type": "code",
   "execution_count": 2,
   "id": "8955d9fd",
   "metadata": {},
   "outputs": [
    {
     "name": "stdout",
     "output_type": "stream",
     "text": [
      "[[0.  0.  0.  0.5 0. ]\n",
      " [1.  0.  0.  0.  0. ]\n",
      " [0.  0.5 0.  0.  1. ]\n",
      " [0.  0.5 1.  0.  0. ]\n",
      " [0.  0.  0.  0.5 0. ]]\n",
      "[0.2 0.2 0.2 0.2 0.2]\n",
      "[0.115 0.2   0.285 0.285 0.115]\n",
      "[0.1511 0.1278 0.2128 0.3573 0.1511]\n",
      "[0.1819 0.1584 0.2127 0.2652 0.1819]\n",
      "[0.1427 0.1846 0.2519 0.2781 0.1427]\n",
      "[0.1482 0.1513 0.2297 0.3226 0.1482]\n",
      "[0.1671 0.156  0.2203 0.2895 0.1671]\n",
      "[0.153  0.172  0.2383 0.2836 0.153 ]\n",
      "[0.1505 0.16   0.2331 0.3057 0.1505]\n",
      "[0.1599 0.1579 0.2259 0.2961 0.1599]\n",
      "[0.1558 0.1659 0.233  0.2891 0.1558]\n",
      "[0.1529 0.1624 0.2329 0.2986 0.1529]\n",
      "[0.1569 0.16   0.229  0.297  0.1569]\n",
      "[0.1562 0.1634 0.2314 0.2927 0.1562]\n",
      "[0.1544 0.1628 0.2322 0.2961 0.1544]\n",
      "[0.1558 0.1612 0.2304 0.2966 0.1558]\n",
      "[0.1561 0.1624 0.2309 0.2944 0.1561]\n",
      "[0.1551 0.1627 0.2317 0.2953 0.1551]\n",
      "[0.1555 0.1618 0.231  0.2961 0.1555]\n",
      "[0.1558 0.1622 0.2309 0.2951 0.1558]\n",
      "[0.1554 0.1624 0.2314 0.2952 0.1554]\n",
      "[0.1555 0.1621 0.2311 0.2957 0.1555]\n",
      "[0.1557 0.1622 0.2311 0.2953 0.1557]\n",
      "[0.1555 0.1623 0.2313 0.2954 0.1555]\n",
      "[0.1555 0.1622 0.2312 0.2956 0.1555]\n",
      "[0.1556 0.1622 0.2311 0.2955 0.1556]\n",
      "[0.1556 0.1623 0.2312 0.2954 0.1556]\n",
      "[0.1555 0.1623 0.2312 0.2955 0.1555]\n",
      "[0.1556 0.1622 0.2312 0.2955 0.1556]\n",
      "[0.1556 0.1623 0.2312 0.2955 0.1556]\n"
     ]
    }
   ],
   "source": [
    "import numpy as np\n",
    "page = [[0,0,0,.5,0],\n",
    "        [1,0,0,0,0],\n",
    "        [0,.5,0,0,1],\n",
    "        [0,.5,1,0,0],\n",
    "        [0,0,0,.5,0]]\n",
    "page1 = np.array(page)\n",
    "print(page1)\n",
    "r_1 = page[0][3]\n",
    "r_2 = page[1][0]\n",
    "r_3a = page[2][1]\n",
    "r_3b = page[2][4]\n",
    "r_4a = page[3][1]\n",
    "r_4b = page[3][2]\n",
    "r_5 = page[4][3]\n",
    "\n",
    "n = 5\n",
    "c =.85\n",
    "#c = float(input(\"Enter decay value(c): \"))\n",
    "\n",
    "r = [0,0,0,0,0]\n",
    "r[0] = 1/n\n",
    "r[1] = 1/n\n",
    "r[2] = 1/n\n",
    "r[3] = 1/n\n",
    "r[4] = 1/n\n",
    "\n",
    "for x in range(30): #30 is the no. of iterations\n",
    "    print(np.array(r))\n",
    "    a = c * r[3] * r_1 + ((1-c)/n)\n",
    "    b = c * r[0] * r_2 + ((1-c)/n)\n",
    "    s = (c * r[1] * r_3a) + (c * r[4] * r_3b) + ((1-c)/n)\n",
    "    d = (c * r[1] * r_4a) + (c * r[2] * r_4b) + ((1-c)/n)\n",
    "    e = c * r[3] * r_5 + ((1-c)/n)\n",
    "    r[0] = round(a,4)\n",
    "    r[1] = round(b,4)\n",
    "    r[2] = round(s,4)\n",
    "    r[3] = round(d,4)\n",
    "    r[4] = round(e,4)"
   ]
  },
  {
   "cell_type": "markdown",
   "id": "2c135e4e",
   "metadata": {},
   "source": [
    "### Creating a proc for the same"
   ]
  },
  {
   "cell_type": "code",
   "execution_count": 3,
   "id": "b0dee4ca",
   "metadata": {},
   "outputs": [],
   "source": [
    "def pagerank_power(A, p=0.85, max_iter=30,\n",
    "                   tol=1e-06, personalize=None, reverse=False):\n",
    "    \"\"\" Calculates PageRank given a csr graph\n",
    "\n",
    "    Inputs:\n",
    "    -------\n",
    "    A: a csr graph.\n",
    "    p: decay factor\n",
    "    max_iter: maximum number of iterations\n",
    "    personlize: if not None, should be an array with the size of the nodes\n",
    "                containing probability distributions.\n",
    "                It will be normalized automatically.\n",
    "    reverse: If true, returns the reversed-PageRank\n",
    "\n",
    "    Returns:\n",
    "    --------\n",
    "    PageRank Scores for the nodes\n",
    "\n",
    "    \"\"\"\n",
    "    # In Moler's algorithm, $$G_{ij}$$ represents the existences of an edge\n",
    "    # from node $$j$$ to $$i$$, while we have assumed the opposite!\n",
    "    if reverse:\n",
    "        A = A.T\n",
    "\n",
    "    n, _ = A.shape\n",
    "    r = sp.asarray(A.sum(axis=1)).reshape(-1)\n",
    "\n",
    "    k = r.nonzero()[0]\n",
    "\n",
    "    D_1 = sprs.csr_matrix((1 / r[k], (k, k)), shape=(n, n))\n",
    "\n",
    "    if personalize is None:\n",
    "        personalize = sp.ones(n)\n",
    "    personalize = personalize.reshape(n, 1)\n",
    "    s = (personalize / personalize.sum()) * n\n",
    "\n",
    "    z_T = (((1 - p) * (r != 0) + (r == 0)) / n)[sp.newaxis, :]\n",
    "    W = p * A.T @ D_1\n",
    "\n",
    "    x = s\n",
    "    oldx = sp.zeros((n, 1))\n",
    "\n",
    "    iteration = 0\n",
    "\n",
    "    while sp.linalg.norm(x - oldx) > tol:\n",
    "        oldx = x\n",
    "        x = W @ x + s @ (z_T @ x)\n",
    "        iteration += 1\n",
    "        if iteration >= max_iter:\n",
    "            break\n",
    "    x = x / sum(x)\n",
    "\n",
    "    return x.reshape(-1)"
   ]
  },
  {
   "cell_type": "code",
   "execution_count": 4,
   "id": "ddc669c6",
   "metadata": {},
   "outputs": [],
   "source": [
    "from numpy.testing import assert_allclose\n",
    "import unittest\n",
    "import scipy.sparse as sparse"
   ]
  },
  {
   "cell_type": "code",
   "execution_count": 5,
   "id": "925a067c",
   "metadata": {},
   "outputs": [
    {
     "name": "stderr",
     "output_type": "stream",
     "text": [
      "/var/folders/xd/7xbbxhs53f36m2cf0d1gf7jm0000gp/T/ipykernel_5578/3449831715.py:2: DeprecationWarning: scipy.array is deprecated and will be removed in SciPy 2.0.0, use numpy.array instead\n",
      "  edges1 = sp.array([[1, 2],\n",
      "/var/folders/xd/7xbbxhs53f36m2cf0d1gf7jm0000gp/T/ipykernel_5578/3449831715.py:12: DeprecationWarning: scipy.array is deprecated and will be removed in SciPy 2.0.0, use numpy.array instead\n",
      "  personalize1 = sp.array([0.1556,0.1622,0.2312,0.2955,0.1556])\n"
     ]
    }
   ],
   "source": [
    "n1=5\n",
    "edges1 = sp.array([[1, 2],\n",
    "                           [2, 3],\n",
    "                           [2, 4],\n",
    "                           [3, 4],\n",
    "                           [4, 1],\n",
    "                           [4, 5],\n",
    "                           [5, 1]])\n",
    "\n",
    "weights1 = [1,0.5,0.5,1,0.5,0.5,1]\n",
    "\n",
    "personalize1 = sp.array([0.1556,0.1622,0.2312,0.2955,0.1556])\n",
    "\n",
    "G1 = sparse.csr_matrix((weights1, (edges1[:, 0], edges1[:, 1])))"
   ]
  },
  {
   "cell_type": "code",
   "execution_count": 6,
   "id": "95895926",
   "metadata": {},
   "outputs": [
    {
     "name": "stderr",
     "output_type": "stream",
     "text": [
      "/var/folders/xd/7xbbxhs53f36m2cf0d1gf7jm0000gp/T/ipykernel_5578/1882285758.py:26: DeprecationWarning: scipy.asarray is deprecated and will be removed in SciPy 2.0.0, use numpy.asarray instead\n",
      "  r = sp.asarray(A.sum(axis=1)).reshape(-1)\n",
      "/var/folders/xd/7xbbxhs53f36m2cf0d1gf7jm0000gp/T/ipykernel_5578/1882285758.py:33: DeprecationWarning: scipy.ones is deprecated and will be removed in SciPy 2.0.0, use numpy.ones instead\n",
      "  personalize = sp.ones(n)\n",
      "/var/folders/xd/7xbbxhs53f36m2cf0d1gf7jm0000gp/T/ipykernel_5578/1882285758.py:41: DeprecationWarning: scipy.zeros is deprecated and will be removed in SciPy 2.0.0, use numpy.zeros instead\n",
      "  oldx = sp.zeros((n, 1))\n"
     ]
    },
    {
     "ename": "AssertionError",
     "evalue": "\nNot equal to tolerance rtol=0, atol=0.0001\n\nMismatched elements: 6 / 6 (100%)\nMax absolute difference: 0.82087379\nMax relative difference: 0.96573387\n x: array([0.029126, 0.240772, 0.23378 , 0.128482, 0.237693, 0.130147])\n y: array(0.85)",
     "output_type": "error",
     "traceback": [
      "\u001b[0;31m---------------------------------------------------------------------------\u001b[0m",
      "\u001b[0;31mAssertionError\u001b[0m                            Traceback (most recent call last)",
      "\u001b[0;32m/var/folders/xd/7xbbxhs53f36m2cf0d1gf7jm0000gp/T/ipykernel_5578/543392867.py\u001b[0m in \u001b[0;36m<module>\u001b[0;34m\u001b[0m\n\u001b[1;32m      1\u001b[0m \u001b[0mcalculated_pagerank\u001b[0m \u001b[0;34m=\u001b[0m \u001b[0mpagerank_power\u001b[0m\u001b[0;34m(\u001b[0m\u001b[0mG1\u001b[0m\u001b[0;34m)\u001b[0m\u001b[0;34m\u001b[0m\u001b[0;34m\u001b[0m\u001b[0m\n\u001b[0;32m----> 2\u001b[0;31m \u001b[0massert_allclose\u001b[0m\u001b[0;34m(\u001b[0m\u001b[0mcalculated_pagerank\u001b[0m\u001b[0;34m,\u001b[0m \u001b[0;36m0.85\u001b[0m\u001b[0;34m,\u001b[0m \u001b[0mrtol\u001b[0m\u001b[0;34m=\u001b[0m\u001b[0;36m0\u001b[0m\u001b[0;34m,\u001b[0m \u001b[0matol\u001b[0m\u001b[0;34m=\u001b[0m\u001b[0;36m1e-04\u001b[0m\u001b[0;34m)\u001b[0m\u001b[0;34m\u001b[0m\u001b[0;34m\u001b[0m\u001b[0m\n\u001b[0m",
      "    \u001b[0;31m[... skipping hidden 1 frame]\u001b[0m\n",
      "\u001b[0;32m~/opt/anaconda3/lib/python3.9/site-packages/numpy/testing/_private/utils.py\u001b[0m in \u001b[0;36massert_array_compare\u001b[0;34m(comparison, x, y, err_msg, verbose, header, precision, equal_nan, equal_inf)\u001b[0m\n\u001b[1;32m    842\u001b[0m                                 \u001b[0mverbose\u001b[0m\u001b[0;34m=\u001b[0m\u001b[0mverbose\u001b[0m\u001b[0;34m,\u001b[0m \u001b[0mheader\u001b[0m\u001b[0;34m=\u001b[0m\u001b[0mheader\u001b[0m\u001b[0;34m,\u001b[0m\u001b[0;34m\u001b[0m\u001b[0;34m\u001b[0m\u001b[0m\n\u001b[1;32m    843\u001b[0m                                 names=('x', 'y'), precision=precision)\n\u001b[0;32m--> 844\u001b[0;31m             \u001b[0;32mraise\u001b[0m \u001b[0mAssertionError\u001b[0m\u001b[0;34m(\u001b[0m\u001b[0mmsg\u001b[0m\u001b[0;34m)\u001b[0m\u001b[0;34m\u001b[0m\u001b[0;34m\u001b[0m\u001b[0m\n\u001b[0m\u001b[1;32m    845\u001b[0m     \u001b[0;32mexcept\u001b[0m \u001b[0mValueError\u001b[0m\u001b[0;34m:\u001b[0m\u001b[0;34m\u001b[0m\u001b[0;34m\u001b[0m\u001b[0m\n\u001b[1;32m    846\u001b[0m         \u001b[0;32mimport\u001b[0m \u001b[0mtraceback\u001b[0m\u001b[0;34m\u001b[0m\u001b[0;34m\u001b[0m\u001b[0m\n",
      "\u001b[0;31mAssertionError\u001b[0m: \nNot equal to tolerance rtol=0, atol=0.0001\n\nMismatched elements: 6 / 6 (100%)\nMax absolute difference: 0.82087379\nMax relative difference: 0.96573387\n x: array([0.029126, 0.240772, 0.23378 , 0.128482, 0.237693, 0.130147])\n y: array(0.85)"
     ]
    }
   ],
   "source": [
    "calculated_pagerank = pagerank_power(G1)\n",
    "assert_allclose(calculated_pagerank, 0.85, rtol=0, atol=1e-04)"
   ]
  },
  {
   "cell_type": "code",
   "execution_count": null,
   "id": "002414e4",
   "metadata": {},
   "outputs": [],
   "source": []
  }
 ],
 "metadata": {
  "kernelspec": {
   "display_name": "Python 3 (ipykernel)",
   "language": "python",
   "name": "python3"
  },
  "language_info": {
   "codemirror_mode": {
    "name": "ipython",
    "version": 3
   },
   "file_extension": ".py",
   "mimetype": "text/x-python",
   "name": "python",
   "nbconvert_exporter": "python",
   "pygments_lexer": "ipython3",
   "version": "3.9.12"
  }
 },
 "nbformat": 4,
 "nbformat_minor": 5
}
