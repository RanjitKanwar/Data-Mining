{
 "cells": [
  {
   "cell_type": "code",
   "execution_count": 1,
   "id": "3450a005-08d1-43c4-9ed2-8938562493fe",
   "metadata": {},
   "outputs": [],
   "source": [
    "from tabula import read_pdf\n"
   ]
  },
  {
   "cell_type": "code",
   "execution_count": 2,
   "id": "aa440b35-0cc1-4f33-b195-26bf3132d6c9",
   "metadata": {},
   "outputs": [],
   "source": [
    "path_assignment = \"Assignment4.pdf\""
   ]
  },
  {
   "cell_type": "code",
   "execution_count": 4,
   "id": "fda19cd4-7e96-4eb0-82eb-fec824a46b94",
   "metadata": {},
   "outputs": [],
   "source": [
    "#reads table from the pdf file\n",
    "df = read_pdf(path_assignment,pages=\"all\")"
   ]
  },
  {
   "cell_type": "code",
   "execution_count": 7,
   "id": "c93e45cf-7a08-4151-b62f-66180cda3b88",
   "metadata": {},
   "outputs": [],
   "source": [
    "# df"
   ]
  },
  {
   "cell_type": "code",
   "execution_count": 9,
   "id": "dbd6e5c8-a3ca-4b88-8a4a-ed9d071f1d89",
   "metadata": {},
   "outputs": [],
   "source": [
    "data_2020 = df[0]"
   ]
  },
  {
   "cell_type": "code",
   "execution_count": 12,
   "id": "c8392265-96ae-455d-a1b3-3489c8ffbb4b",
   "metadata": {},
   "outputs": [],
   "source": [
    "data_2020['Grass'] = range(16)"
   ]
  },
  {
   "cell_type": "code",
   "execution_count": 14,
   "id": "654ae5e1-8c15-4ca2-a3ab-dede088f1aee",
   "metadata": {},
   "outputs": [],
   "source": [
    "data_2020['Grass'] = ['Dry','Wet','Dry','Wet','Wet','Wet', 'Dry','Wet', 'Dry','Dry','Dry','Dry','Dry','Wet','Wet', 'Dry']"
   ]
  },
  {
   "cell_type": "code",
   "execution_count": 15,
   "id": "55c81fde-e3cf-4fd9-9f5a-3d30c1479156",
   "metadata": {},
   "outputs": [
    {
     "data": {
      "text/html": [
       "<div>\n",
       "<style scoped>\n",
       "    .dataframe tbody tr th:only-of-type {\n",
       "        vertical-align: middle;\n",
       "    }\n",
       "\n",
       "    .dataframe tbody tr th {\n",
       "        vertical-align: top;\n",
       "    }\n",
       "\n",
       "    .dataframe thead th {\n",
       "        text-align: right;\n",
       "    }\n",
       "</style>\n",
       "<table border=\"1\" class=\"dataframe\">\n",
       "  <thead>\n",
       "    <tr style=\"text-align: right;\">\n",
       "      <th></th>\n",
       "      <th>Rain</th>\n",
       "      <th>Sprinkler</th>\n",
       "      <th>Grass</th>\n",
       "    </tr>\n",
       "  </thead>\n",
       "  <tbody>\n",
       "    <tr>\n",
       "      <th>0</th>\n",
       "      <td>No</td>\n",
       "      <td>No</td>\n",
       "      <td>Dry</td>\n",
       "    </tr>\n",
       "    <tr>\n",
       "      <th>1</th>\n",
       "      <td>No</td>\n",
       "      <td>Yes</td>\n",
       "      <td>Wet</td>\n",
       "    </tr>\n",
       "    <tr>\n",
       "      <th>2</th>\n",
       "      <td>No</td>\n",
       "      <td>No</td>\n",
       "      <td>Dry</td>\n",
       "    </tr>\n",
       "    <tr>\n",
       "      <th>3</th>\n",
       "      <td>No</td>\n",
       "      <td>Yes</td>\n",
       "      <td>Wet</td>\n",
       "    </tr>\n",
       "    <tr>\n",
       "      <th>4</th>\n",
       "      <td>Yes</td>\n",
       "      <td>No</td>\n",
       "      <td>Wet</td>\n",
       "    </tr>\n",
       "    <tr>\n",
       "      <th>5</th>\n",
       "      <td>No</td>\n",
       "      <td>Yes</td>\n",
       "      <td>Wet</td>\n",
       "    </tr>\n",
       "    <tr>\n",
       "      <th>6</th>\n",
       "      <td>No</td>\n",
       "      <td>No</td>\n",
       "      <td>Dry</td>\n",
       "    </tr>\n",
       "    <tr>\n",
       "      <th>7</th>\n",
       "      <td>Yes</td>\n",
       "      <td>Yes</td>\n",
       "      <td>Wet</td>\n",
       "    </tr>\n",
       "    <tr>\n",
       "      <th>8</th>\n",
       "      <td>No</td>\n",
       "      <td>No</td>\n",
       "      <td>Dry</td>\n",
       "    </tr>\n",
       "    <tr>\n",
       "      <th>9</th>\n",
       "      <td>No</td>\n",
       "      <td>Yes</td>\n",
       "      <td>Dry</td>\n",
       "    </tr>\n",
       "    <tr>\n",
       "      <th>10</th>\n",
       "      <td>Yes</td>\n",
       "      <td>No</td>\n",
       "      <td>Dry</td>\n",
       "    </tr>\n",
       "    <tr>\n",
       "      <th>11</th>\n",
       "      <td>No</td>\n",
       "      <td>No</td>\n",
       "      <td>Dry</td>\n",
       "    </tr>\n",
       "    <tr>\n",
       "      <th>12</th>\n",
       "      <td>No</td>\n",
       "      <td>No</td>\n",
       "      <td>Dry</td>\n",
       "    </tr>\n",
       "    <tr>\n",
       "      <th>13</th>\n",
       "      <td>No</td>\n",
       "      <td>Yes</td>\n",
       "      <td>Wet</td>\n",
       "    </tr>\n",
       "    <tr>\n",
       "      <th>14</th>\n",
       "      <td>Yes</td>\n",
       "      <td>No</td>\n",
       "      <td>Wet</td>\n",
       "    </tr>\n",
       "    <tr>\n",
       "      <th>15</th>\n",
       "      <td>No</td>\n",
       "      <td>No</td>\n",
       "      <td>Dry</td>\n",
       "    </tr>\n",
       "  </tbody>\n",
       "</table>\n",
       "</div>"
      ],
      "text/plain": [
       "   Rain Sprinkler Grass\n",
       "0    No        No   Dry\n",
       "1    No       Yes   Wet\n",
       "2    No        No   Dry\n",
       "3    No       Yes   Wet\n",
       "4   Yes        No   Wet\n",
       "5    No       Yes   Wet\n",
       "6    No        No   Dry\n",
       "7   Yes       Yes   Wet\n",
       "8    No        No   Dry\n",
       "9    No       Yes   Dry\n",
       "10  Yes        No   Dry\n",
       "11   No        No   Dry\n",
       "12   No        No   Dry\n",
       "13   No       Yes   Wet\n",
       "14  Yes        No   Wet\n",
       "15   No        No   Dry"
      ]
     },
     "execution_count": 15,
     "metadata": {},
     "output_type": "execute_result"
    }
   ],
   "source": [
    "data_2020"
   ]
  },
  {
   "cell_type": "markdown",
   "id": "c269fcb5-7fae-47ad-a70d-f25bce956cfe",
   "metadata": {},
   "source": [
    "## Problem 1 (25 points). \n",
    "Suppose David wants to use information gain in the decision tree\n",
    "algorithm. But David does not know how to run decision tree algorithm. Please help him. Please\n",
    "illustrate how to train the decision tree by using the training Dataset A in Table 1."
   ]
  },
  {
   "cell_type": "code",
   "execution_count": 92,
   "id": "2f941b64-f28c-4ae1-bf36-e1f061bceecd",
   "metadata": {},
   "outputs": [],
   "source": [
    "from sklearn.tree import DecisionTreeClassifier\n",
    "from sklearn.preprocessing import LabelEncoder\n",
    "\n",
    "from sklearn.model_selection import train_test_split\n",
    "from sklearn.tree import DecisionTreeClassifier\n",
    "from sklearn import tree\n",
    "import numpy as np\n",
    "from matplotlib import pyplot as plt\n",
    "from sklearn.metrics import classification_report, precision_score, recall_score, f1_score, precision_recall_fscore_support,roc_auc_score\n",
    "from sklearn.metrics import confusion_matrix\n",
    "from sklearn.metrics import plot_confusion_matrix\n",
    "from sklearn.inspection import DecisionBoundaryDisplay\n"
   ]
  },
  {
   "cell_type": "code",
   "execution_count": 93,
   "id": "0d399069-8846-4766-a8fd-33b1f90abdcb",
   "metadata": {},
   "outputs": [],
   "source": [
    "clf = DecisionTreeClassifier(random_state=0, criterion='entropy')\n",
    "le = LabelEncoder()\n",
    "data_2020['Rain'] = le.fit_transform(data_2020['Rain'])\n",
    "data_2020['Sprinkler'] = le.fit_transform(data_2020['Sprinkler'])\n",
    "data_2020['Grass'] = le.fit_transform(data_2020['Grass'])"
   ]
  },
  {
   "cell_type": "code",
   "execution_count": 94,
   "id": "95c8cbbb-0a29-4d2a-aa9d-0996254b7dec",
   "metadata": {},
   "outputs": [
    {
     "data": {
      "text/html": [
       "<div>\n",
       "<style scoped>\n",
       "    .dataframe tbody tr th:only-of-type {\n",
       "        vertical-align: middle;\n",
       "    }\n",
       "\n",
       "    .dataframe tbody tr th {\n",
       "        vertical-align: top;\n",
       "    }\n",
       "\n",
       "    .dataframe thead th {\n",
       "        text-align: right;\n",
       "    }\n",
       "</style>\n",
       "<table border=\"1\" class=\"dataframe\">\n",
       "  <thead>\n",
       "    <tr style=\"text-align: right;\">\n",
       "      <th></th>\n",
       "      <th>Rain</th>\n",
       "      <th>Sprinkler</th>\n",
       "      <th>Grass</th>\n",
       "    </tr>\n",
       "  </thead>\n",
       "  <tbody>\n",
       "    <tr>\n",
       "      <th>0</th>\n",
       "      <td>0</td>\n",
       "      <td>0</td>\n",
       "      <td>0</td>\n",
       "    </tr>\n",
       "    <tr>\n",
       "      <th>1</th>\n",
       "      <td>0</td>\n",
       "      <td>1</td>\n",
       "      <td>1</td>\n",
       "    </tr>\n",
       "    <tr>\n",
       "      <th>2</th>\n",
       "      <td>0</td>\n",
       "      <td>0</td>\n",
       "      <td>0</td>\n",
       "    </tr>\n",
       "    <tr>\n",
       "      <th>3</th>\n",
       "      <td>0</td>\n",
       "      <td>1</td>\n",
       "      <td>1</td>\n",
       "    </tr>\n",
       "    <tr>\n",
       "      <th>4</th>\n",
       "      <td>1</td>\n",
       "      <td>0</td>\n",
       "      <td>1</td>\n",
       "    </tr>\n",
       "    <tr>\n",
       "      <th>5</th>\n",
       "      <td>0</td>\n",
       "      <td>1</td>\n",
       "      <td>1</td>\n",
       "    </tr>\n",
       "    <tr>\n",
       "      <th>6</th>\n",
       "      <td>0</td>\n",
       "      <td>0</td>\n",
       "      <td>0</td>\n",
       "    </tr>\n",
       "    <tr>\n",
       "      <th>7</th>\n",
       "      <td>1</td>\n",
       "      <td>1</td>\n",
       "      <td>1</td>\n",
       "    </tr>\n",
       "    <tr>\n",
       "      <th>8</th>\n",
       "      <td>0</td>\n",
       "      <td>0</td>\n",
       "      <td>0</td>\n",
       "    </tr>\n",
       "    <tr>\n",
       "      <th>9</th>\n",
       "      <td>0</td>\n",
       "      <td>1</td>\n",
       "      <td>0</td>\n",
       "    </tr>\n",
       "    <tr>\n",
       "      <th>10</th>\n",
       "      <td>1</td>\n",
       "      <td>0</td>\n",
       "      <td>0</td>\n",
       "    </tr>\n",
       "    <tr>\n",
       "      <th>11</th>\n",
       "      <td>0</td>\n",
       "      <td>0</td>\n",
       "      <td>0</td>\n",
       "    </tr>\n",
       "    <tr>\n",
       "      <th>12</th>\n",
       "      <td>0</td>\n",
       "      <td>0</td>\n",
       "      <td>0</td>\n",
       "    </tr>\n",
       "    <tr>\n",
       "      <th>13</th>\n",
       "      <td>0</td>\n",
       "      <td>1</td>\n",
       "      <td>1</td>\n",
       "    </tr>\n",
       "    <tr>\n",
       "      <th>14</th>\n",
       "      <td>1</td>\n",
       "      <td>0</td>\n",
       "      <td>1</td>\n",
       "    </tr>\n",
       "    <tr>\n",
       "      <th>15</th>\n",
       "      <td>0</td>\n",
       "      <td>0</td>\n",
       "      <td>0</td>\n",
       "    </tr>\n",
       "  </tbody>\n",
       "</table>\n",
       "</div>"
      ],
      "text/plain": [
       "    Rain  Sprinkler  Grass\n",
       "0      0          0      0\n",
       "1      0          1      1\n",
       "2      0          0      0\n",
       "3      0          1      1\n",
       "4      1          0      1\n",
       "5      0          1      1\n",
       "6      0          0      0\n",
       "7      1          1      1\n",
       "8      0          0      0\n",
       "9      0          1      0\n",
       "10     1          0      0\n",
       "11     0          0      0\n",
       "12     0          0      0\n",
       "13     0          1      1\n",
       "14     1          0      1\n",
       "15     0          0      0"
      ]
     },
     "execution_count": 94,
     "metadata": {},
     "output_type": "execute_result"
    }
   ],
   "source": [
    "data_2020"
   ]
  },
  {
   "cell_type": "code",
   "execution_count": 95,
   "id": "3bfcfd34-9d9b-45ef-b15d-d70a6a0dc163",
   "metadata": {},
   "outputs": [
    {
     "data": {
      "text/html": [
       "<style>#sk-container-id-6 {color: black;background-color: white;}#sk-container-id-6 pre{padding: 0;}#sk-container-id-6 div.sk-toggleable {background-color: white;}#sk-container-id-6 label.sk-toggleable__label {cursor: pointer;display: block;width: 100%;margin-bottom: 0;padding: 0.3em;box-sizing: border-box;text-align: center;}#sk-container-id-6 label.sk-toggleable__label-arrow:before {content: \"▸\";float: left;margin-right: 0.25em;color: #696969;}#sk-container-id-6 label.sk-toggleable__label-arrow:hover:before {color: black;}#sk-container-id-6 div.sk-estimator:hover label.sk-toggleable__label-arrow:before {color: black;}#sk-container-id-6 div.sk-toggleable__content {max-height: 0;max-width: 0;overflow: hidden;text-align: left;background-color: #f0f8ff;}#sk-container-id-6 div.sk-toggleable__content pre {margin: 0.2em;color: black;border-radius: 0.25em;background-color: #f0f8ff;}#sk-container-id-6 input.sk-toggleable__control:checked~div.sk-toggleable__content {max-height: 200px;max-width: 100%;overflow: auto;}#sk-container-id-6 input.sk-toggleable__control:checked~label.sk-toggleable__label-arrow:before {content: \"▾\";}#sk-container-id-6 div.sk-estimator input.sk-toggleable__control:checked~label.sk-toggleable__label {background-color: #d4ebff;}#sk-container-id-6 div.sk-label input.sk-toggleable__control:checked~label.sk-toggleable__label {background-color: #d4ebff;}#sk-container-id-6 input.sk-hidden--visually {border: 0;clip: rect(1px 1px 1px 1px);clip: rect(1px, 1px, 1px, 1px);height: 1px;margin: -1px;overflow: hidden;padding: 0;position: absolute;width: 1px;}#sk-container-id-6 div.sk-estimator {font-family: monospace;background-color: #f0f8ff;border: 1px dotted black;border-radius: 0.25em;box-sizing: border-box;margin-bottom: 0.5em;}#sk-container-id-6 div.sk-estimator:hover {background-color: #d4ebff;}#sk-container-id-6 div.sk-parallel-item::after {content: \"\";width: 100%;border-bottom: 1px solid gray;flex-grow: 1;}#sk-container-id-6 div.sk-label:hover label.sk-toggleable__label {background-color: #d4ebff;}#sk-container-id-6 div.sk-serial::before {content: \"\";position: absolute;border-left: 1px solid gray;box-sizing: border-box;top: 0;bottom: 0;left: 50%;z-index: 0;}#sk-container-id-6 div.sk-serial {display: flex;flex-direction: column;align-items: center;background-color: white;padding-right: 0.2em;padding-left: 0.2em;position: relative;}#sk-container-id-6 div.sk-item {position: relative;z-index: 1;}#sk-container-id-6 div.sk-parallel {display: flex;align-items: stretch;justify-content: center;background-color: white;position: relative;}#sk-container-id-6 div.sk-item::before, #sk-container-id-6 div.sk-parallel-item::before {content: \"\";position: absolute;border-left: 1px solid gray;box-sizing: border-box;top: 0;bottom: 0;left: 50%;z-index: -1;}#sk-container-id-6 div.sk-parallel-item {display: flex;flex-direction: column;z-index: 1;position: relative;background-color: white;}#sk-container-id-6 div.sk-parallel-item:first-child::after {align-self: flex-end;width: 50%;}#sk-container-id-6 div.sk-parallel-item:last-child::after {align-self: flex-start;width: 50%;}#sk-container-id-6 div.sk-parallel-item:only-child::after {width: 0;}#sk-container-id-6 div.sk-dashed-wrapped {border: 1px dashed gray;margin: 0 0.4em 0.5em 0.4em;box-sizing: border-box;padding-bottom: 0.4em;background-color: white;}#sk-container-id-6 div.sk-label label {font-family: monospace;font-weight: bold;display: inline-block;line-height: 1.2em;}#sk-container-id-6 div.sk-label-container {text-align: center;}#sk-container-id-6 div.sk-container {/* jupyter's `normalize.less` sets `[hidden] { display: none; }` but bootstrap.min.css set `[hidden] { display: none !important; }` so we also need the `!important` here to be able to override the default hidden behavior on the sphinx rendered scikit-learn.org. See: https://github.com/scikit-learn/scikit-learn/issues/21755 */display: inline-block !important;position: relative;}#sk-container-id-6 div.sk-text-repr-fallback {display: none;}</style><div id=\"sk-container-id-6\" class=\"sk-top-container\"><div class=\"sk-text-repr-fallback\"><pre>DecisionTreeClassifier(max_leaf_nodes=3, random_state=0)</pre><b>In a Jupyter environment, please rerun this cell to show the HTML representation or trust the notebook. <br />On GitHub, the HTML representation is unable to render, please try loading this page with nbviewer.org.</b></div><div class=\"sk-container\" hidden><div class=\"sk-item\"><div class=\"sk-estimator sk-toggleable\"><input class=\"sk-toggleable__control sk-hidden--visually\" id=\"sk-estimator-id-6\" type=\"checkbox\" checked><label for=\"sk-estimator-id-6\" class=\"sk-toggleable__label sk-toggleable__label-arrow\">DecisionTreeClassifier</label><div class=\"sk-toggleable__content\"><pre>DecisionTreeClassifier(max_leaf_nodes=3, random_state=0)</pre></div></div></div></div></div>"
      ],
      "text/plain": [
       "DecisionTreeClassifier(max_leaf_nodes=3, random_state=0)"
      ]
     },
     "execution_count": 95,
     "metadata": {},
     "output_type": "execute_result"
    }
   ],
   "source": [
    "# clf.fit(data_2020[['Rain','Sprinkler']], data_2020['Grass'])\n",
    "X = data_2020[['Rain','Sprinkler']]\n",
    "y = data_2020['Grass']\n",
    "X_train, X_test, y_train, y_test = train_test_split(X, y, random_state=0)\n",
    "\n",
    "clf = DecisionTreeClassifier(max_leaf_nodes=3, random_state=0)\n",
    "clf.fit(X_train, y_train)"
   ]
  },
  {
   "cell_type": "markdown",
   "id": "2e478da9-ed18-4d0f-b458-b9114ccd0dd3",
   "metadata": {},
   "source": [
    "## Visualize the Decision Boundary"
   ]
  },
  {
   "cell_type": "code",
   "execution_count": 96,
   "id": "b0cefc1d-1fa9-45ed-9bd6-aa04da65ae1b",
   "metadata": {},
   "outputs": [
    {
     "data": {
      "image/png": "[encoded data removed]",
      "text/plain": [
       "<Figure size 640x480 with 1 Axes>"
      ]
     },
     "metadata": {},
     "output_type": "display_data"
    }
   ],
   "source": [
    "disp = DecisionBoundaryDisplay.from_estimator(clf, X, response_method=\"predict\",alpha=0.5)\n",
    "disp.ax_.scatter(data_2020['Rain'], data_2020['Sprinkler'], c=data_2020['Grass'].to_numpy(), edgecolor=\"k\")\n",
    "plt.show()"
   ]
  },
  {
   "cell_type": "markdown",
   "id": "ce0f65bb-c4db-484a-81a2-3ca4d3386910",
   "metadata": {},
   "source": [
    "# Problem 2 \n",
    "Suppose David wants to use Dataset B in Table 2 as the testing dataset to\n",
    "test the various accuracy values of the decision tree constructed in Problem 1. Please use the\n",
    "decision tree constructed in Problem 1 to test the data records in Table 2. Compare the\n",
    "predicted results with the observed results for “Grass”. Construct the confusion matrix and\n",
    "explain how to compute the following accuracy values.\n",
    "## Calculate the metrics"
   ]
  },
  {
   "cell_type": "code",
   "execution_count": 103,
   "id": "814608c8-bcc0-4d61-b4d6-dea74d927df6",
   "metadata": {},
   "outputs": [],
   "source": [
    "data_2021 = df[1]"
   ]
  },
  {
   "cell_type": "code",
   "execution_count": 105,
   "id": "80a266a4-f687-45f7-b298-a2a76e5c7051",
   "metadata": {},
   "outputs": [],
   "source": [
    "data_2021['Grass'] = ['Wet', 'Dry', 'Dry', 'Wet', 'Wet','Dry', 'Dry', 'Wet', 'Wet', 'Dry']"
   ]
  },
  {
   "cell_type": "code",
   "execution_count": 97,
   "id": "7db8db45-0192-4f3c-845e-210bb6a5c226",
   "metadata": {},
   "outputs": [
    {
     "name": "stdout",
     "output_type": "stream",
     "text": [
      "Precision                                   : 0.500\n",
      "Recall                                      : 1.000\n",
      "F1-Score                                    : 0.667\n",
      "AUC (area under curve)                      : 0.833\n",
      "\n",
      "Precision Recall F1-Score Support Per Class : \n",
      " (array([1. , 0.5]), array([0.66666667, 1.        ]), array([0.8       , 0.66666667]), array([3, 1]))\n",
      "Sensitivity                                 : 1.000\n",
      "Specifity.                                  : 0.667\n",
      "\n",
      "Classification Report                       : \n",
      "              precision    recall  f1-score   support\n",
      "\n",
      "           0       1.00      0.67      0.80         3\n",
      "           1       0.50      1.00      0.67         1\n",
      "\n",
      "    accuracy                           0.75         4\n",
      "   macro avg       0.75      0.83      0.73         4\n",
      "weighted avg       0.88      0.75      0.77         4\n",
      "\n"
     ]
    }
   ],
   "source": [
    "\n",
    "pred = clf.predict(data_2021[['Rain','Sprinkler']])\n",
    "Y_test = y_test\n",
    "Y_preds = pred\n",
    "tn, fp, fn, tp = confusion_matrix(y_test, pred).ravel()\n",
    "specificity = tn / (tn+fp)\n",
    "sensitivity = tp / tp + fn\n",
    "print('Precision                                   : %.3f'%precision_score(Y_test, Y_preds))\n",
    "print('Recall                                      : %.3f'%recall_score(Y_test, Y_preds))\n",
    "print('F1-Score                                    : %.3f'%f1_score(Y_test, Y_preds))\n",
    "print('AUC (area under curve)                      : %.3f'%roc_auc_score(Y_test, Y_preds))\n",
    "print('\\nPrecision Recall F1-Score Support Per Class : \\n',precision_recall_fscore_support(Y_test, Y_preds))\n",
    "print('Sensitivity                                 : %.3f'%sensitivity)\n",
    "print('Specifity.                                  : %.3f'%specificity)\n",
    "\n",
    "print('\\nClassification Report                       : ')\n",
    "print(classification_report(Y_test, Y_preds))"
   ]
  },
  {
   "cell_type": "markdown",
   "id": "99647e3f-cc22-40fb-9b8e-26c8bfb15c49",
   "metadata": {},
   "source": [
    "### Plot confusion Matrix"
   ]
  },
  {
   "cell_type": "code",
   "execution_count": 98,
   "id": "c46c7c11-cd45-454b-8ae5-68020e758606",
   "metadata": {},
   "outputs": [
    {
     "name": "stderr",
     "output_type": "stream",
     "text": [
      "/Users/trilokpadhi/PycharmProjects/consumer_content_mapping/venv/lib/python3.8/site-packages/sklearn/utils/deprecation.py:87: FutureWarning: Function plot_confusion_matrix is deprecated; Function `plot_confusion_matrix` is deprecated in 1.0 and will be removed in 1.2. Use one of the class methods: ConfusionMatrixDisplay.from_predictions or ConfusionMatrixDisplay.from_estimator.\n",
      "  warnings.warn(msg, category=FutureWarning)\n"
     ]
    },
    {
     "data": {
      "text/plain": [
       "<sklearn.metrics._plot.confusion_matrix.ConfusionMatrixDisplay at 0x1694380d0>"
      ]
     },
     "execution_count": 98,
     "metadata": {},
     "output_type": "execute_result"
    },
    {
     "data": {
      "image/png": "[encoded data removed]",
      "text/plain": [
       "<Figure size 640x480 with 2 Axes>"
      ]
     },
     "metadata": {},
     "output_type": "display_data"
    }
   ],
   "source": [
    "plot_confusion_matrix(clf, X_test, y_test) "
   ]
  },
  {
   "cell_type": "markdown",
   "id": "1b10e60a-8ba0-476c-b5e8-fe1e09444503",
   "metadata": {},
   "source": [
    "# Problem 3 (25 points). \n",
    "Suppose David wants to use Naïve Bayesian Classifier to predict the label\n",
    "(“Grass”) of the fourth record in Dataset B in Table 2:\n",
    "“Rain” = “No”, “Sprinkler” = “Yes”, and “Grass” = “Wet”.\n",
    "Please illustrate how to use naïve Bayesian classifier to predict the label (“Grass”) of the data\n",
    "object (“Rain” = “No”, “Sprinkler” = “Yes”)."
   ]
  },
  {
   "cell_type": "code",
   "execution_count": 99,
   "id": "f025bb2c-0438-46a5-a051-092df0e47955",
   "metadata": {},
   "outputs": [],
   "source": [
    "from sklearn.naive_bayes import GaussianNB\n",
    "X = data_2020[['Rain','Sprinkler']]\n",
    "y = data_2020['Grass']\n",
    "\n",
    "X_train, X_test, y_train, y_test = train_test_split(X, y, test_size=0.6, random_state=0)\n",
    "gnb = GaussianNB()\n",
    "y_pred = gnb.fit(X_train, y_train).predict(X_test)"
   ]
  },
  {
   "cell_type": "code",
   "execution_count": 100,
   "id": "f07edef1-8c15-403d-ad5f-2cc74b4f6adf",
   "metadata": {},
   "outputs": [
    {
     "name": "stdout",
     "output_type": "stream",
     "text": [
      "Number of mislabeled points out of a total 10 points : 3\n"
     ]
    }
   ],
   "source": [
    "print(\"Number of mislabeled points out of a total %d points : %d\"\n",
    "...       % (X_test.shape[0], (y_test != y_pred).sum()))"
   ]
  },
  {
   "cell_type": "code",
   "execution_count": 102,
   "id": "34998d56-534f-4aa0-a7fb-f31f017f74f3",
   "metadata": {},
   "outputs": [
    {
     "name": "stderr",
     "output_type": "stream",
     "text": [
      "/Users/trilokpadhi/PycharmProjects/consumer_content_mapping/venv/lib/python3.8/site-packages/sklearn/base.py:450: UserWarning: X does not have valid feature names, but GaussianNB was fitted with feature names\n",
      "  warnings.warn(\n"
     ]
    },
    {
     "data": {
      "text/plain": [
       "array([1])"
      ]
     },
     "execution_count": 102,
     "metadata": {},
     "output_type": "execute_result"
    }
   ],
   "source": [
    "# Predict for (“Rain” = “No”, “Sprinkler” = “Yes”).\n",
    "gnb.predict([[0,1]])"
   ]
  },
  {
   "cell_type": "code",
   "execution_count": null,
   "id": "944d4598-5355-45a5-9dd2-a135ec28be63",
   "metadata": {},
   "outputs": [],
   "source": []
  }
 ],
 "metadata": {
  "kernelspec": {
   "display_name": "Python 3 (ipykernel)",
   "language": "python",
   "name": "python3"
  },
  "language_info": {
   "codemirror_mode": {
    "name": "ipython",
    "version": 3
   },
   "file_extension": ".py",
   "mimetype": "text/x-python",
   "name": "python",
   "nbconvert_exporter": "python",
   "pygments_lexer": "ipython3",
   "version": "3.9.12"
  }
 },
 "nbformat": 4,
 "nbformat_minor": 5
}
